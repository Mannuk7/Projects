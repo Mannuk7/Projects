{
  "nbformat": 4,
  "nbformat_minor": 0,
  "metadata": {
    "colab": {
      "provenance": [],
      "gpuType": "T4"
    },
    "kernelspec": {
      "name": "python3",
      "display_name": "Python 3"
    },
    "language_info": {
      "name": "python"
    },
    "accelerator": "GPU"
  },
  "cells": [
    {
      "cell_type": "markdown",
      "source": [
        "##**TensorFlow Keras - Binary Classification**"
      ],
      "metadata": {
        "id": "fk_t0ed9qDlg"
      }
    },
    {
      "cell_type": "markdown",
      "source": [
        "##**Step 1 - Importing Libraries**"
      ],
      "metadata": {
        "id": "59PSy7LJqKy0"
      }
    },
    {
      "cell_type": "code",
      "execution_count": null,
      "metadata": {
        "id": "OZOPsBhBhBmu"
      },
      "outputs": [],
      "source": [
        "import numpy as np\n",
        "import pandas as pd\n",
        "\n",
        "import matplotlib.pyplot as plt\n",
        "\n",
        "import os\n",
        "import random\n",
        "\n",
        "import keras\n",
        "\n",
        "from tensorflow.keras.utils import load_img\n",
        "from sklearn.model_selection import train_test_split\n",
        "from keras.preprocessing.image import ImageDataGenerator"
      ]
    },
    {
      "cell_type": "markdown",
      "source": [
        "##**Step 2- Loading Data**"
      ],
      "metadata": {
        "id": "m_pU7E-fqQf0"
      }
    },
    {
      "cell_type": "code",
      "source": [
        "train_data = \"/content/drive/MyDrive/DS/Step - DL/Neural Networks/2 - CNN/Dogs and Cats - Train.zip\"\n",
        "test_data = \"/content/drive/MyDrive/DS/Step - DL/Neural Networks/2 - CNN/Dogs and Cats - Test.zip\""
      ],
      "metadata": {
        "id": "fkX2juRhhqqD"
      },
      "execution_count": null,
      "outputs": []
    },
    {
      "cell_type": "code",
      "source": [
        "%%time\n",
        "import zipfile\n",
        "\n",
        "with zipfile.ZipFile(train_data, 'r') as z:\n",
        "  z.extractall(\".\")\n",
        "\n",
        "with zipfile.ZipFile(test_data, 'r') as z:\n",
        "  z.extractall(\".\")"
      ],
      "metadata": {
        "colab": {
          "base_uri": "https://localhost:8080/"
        },
        "id": "vYgD6dzGhqwb",
        "outputId": "0b79cf58-41b9-4c50-b8c0-09af468bfbc1"
      },
      "execution_count": null,
      "outputs": [
        {
          "output_type": "stream",
          "name": "stdout",
          "text": [
            "CPU times: user 12.8 s, sys: 7.42 s, total: 20.2 s\n",
            "Wall time: 33.3 s\n"
          ]
        }
      ]
    },
    {
      "cell_type": "code",
      "source": [
        "filenames = os.listdir(\"/content/Dogs and Cats - Train\")\n",
        "\n",
        "categories = []\n",
        "\n",
        "for filename in filenames:\n",
        "  category = filename.split('.')[0]\n",
        "\n",
        "  if category == 'dog':\n",
        "    categories.append(str(1))\n",
        "\n",
        "  else:\n",
        "    categories.append(str(0))\n",
        "\n",
        "df = pd.DataFrame({\n",
        "    'filename': filenames,\n",
        "    'category': categories\n",
        "})"
      ],
      "metadata": {
        "id": "rJHv9Lb8hqza"
      },
      "execution_count": null,
      "outputs": []
    },
    {
      "cell_type": "code",
      "source": [
        "df.head()"
      ],
      "metadata": {
        "colab": {
          "base_uri": "https://localhost:8080/",
          "height": 206
        },
        "id": "lTUgMGX8hq2c",
        "outputId": "3dca91a7-c966-4d16-8850-eef39a87d703"
      },
      "execution_count": null,
      "outputs": [
        {
          "output_type": "execute_result",
          "data": {
            "text/plain": [
              "       filename category\n",
              "0  dog.6044.jpg        1\n",
              "1  dog.2581.jpg        1\n",
              "2  cat.3613.jpg        0\n",
              "3  cat.1699.jpg        0\n",
              "4  cat.4479.jpg        0"
            ],
            "text/html": [
              "\n",
              "  <div id=\"df-be44ecf5-e769-4e96-9033-b799f54d03f3\" class=\"colab-df-container\">\n",
              "    <div>\n",
              "<style scoped>\n",
              "    .dataframe tbody tr th:only-of-type {\n",
              "        vertical-align: middle;\n",
              "    }\n",
              "\n",
              "    .dataframe tbody tr th {\n",
              "        vertical-align: top;\n",
              "    }\n",
              "\n",
              "    .dataframe thead th {\n",
              "        text-align: right;\n",
              "    }\n",
              "</style>\n",
              "<table border=\"1\" class=\"dataframe\">\n",
              "  <thead>\n",
              "    <tr style=\"text-align: right;\">\n",
              "      <th></th>\n",
              "      <th>filename</th>\n",
              "      <th>category</th>\n",
              "    </tr>\n",
              "  </thead>\n",
              "  <tbody>\n",
              "    <tr>\n",
              "      <th>0</th>\n",
              "      <td>dog.6044.jpg</td>\n",
              "      <td>1</td>\n",
              "    </tr>\n",
              "    <tr>\n",
              "      <th>1</th>\n",
              "      <td>dog.2581.jpg</td>\n",
              "      <td>1</td>\n",
              "    </tr>\n",
              "    <tr>\n",
              "      <th>2</th>\n",
              "      <td>cat.3613.jpg</td>\n",
              "      <td>0</td>\n",
              "    </tr>\n",
              "    <tr>\n",
              "      <th>3</th>\n",
              "      <td>cat.1699.jpg</td>\n",
              "      <td>0</td>\n",
              "    </tr>\n",
              "    <tr>\n",
              "      <th>4</th>\n",
              "      <td>cat.4479.jpg</td>\n",
              "      <td>0</td>\n",
              "    </tr>\n",
              "  </tbody>\n",
              "</table>\n",
              "</div>\n",
              "    <div class=\"colab-df-buttons\">\n",
              "\n",
              "  <div class=\"colab-df-container\">\n",
              "    <button class=\"colab-df-convert\" onclick=\"convertToInteractive('df-be44ecf5-e769-4e96-9033-b799f54d03f3')\"\n",
              "            title=\"Convert this dataframe to an interactive table.\"\n",
              "            style=\"display:none;\">\n",
              "\n",
              "  <svg xmlns=\"http://www.w3.org/2000/svg\" height=\"24px\" viewBox=\"0 -960 960 960\">\n",
              "    <path d=\"M120-120v-720h720v720H120Zm60-500h600v-160H180v160Zm220 220h160v-160H400v160Zm0 220h160v-160H400v160ZM180-400h160v-160H180v160Zm440 0h160v-160H620v160ZM180-180h160v-160H180v160Zm440 0h160v-160H620v160Z\"/>\n",
              "  </svg>\n",
              "    </button>\n",
              "\n",
              "  <style>\n",
              "    .colab-df-container {\n",
              "      display:flex;\n",
              "      gap: 12px;\n",
              "    }\n",
              "\n",
              "    .colab-df-convert {\n",
              "      background-color: #E8F0FE;\n",
              "      border: none;\n",
              "      border-radius: 50%;\n",
              "      cursor: pointer;\n",
              "      display: none;\n",
              "      fill: #1967D2;\n",
              "      height: 32px;\n",
              "      padding: 0 0 0 0;\n",
              "      width: 32px;\n",
              "    }\n",
              "\n",
              "    .colab-df-convert:hover {\n",
              "      background-color: #E2EBFA;\n",
              "      box-shadow: 0px 1px 2px rgba(60, 64, 67, 0.3), 0px 1px 3px 1px rgba(60, 64, 67, 0.15);\n",
              "      fill: #174EA6;\n",
              "    }\n",
              "\n",
              "    .colab-df-buttons div {\n",
              "      margin-bottom: 4px;\n",
              "    }\n",
              "\n",
              "    [theme=dark] .colab-df-convert {\n",
              "      background-color: #3B4455;\n",
              "      fill: #D2E3FC;\n",
              "    }\n",
              "\n",
              "    [theme=dark] .colab-df-convert:hover {\n",
              "      background-color: #434B5C;\n",
              "      box-shadow: 0px 1px 3px 1px rgba(0, 0, 0, 0.15);\n",
              "      filter: drop-shadow(0px 1px 2px rgba(0, 0, 0, 0.3));\n",
              "      fill: #FFFFFF;\n",
              "    }\n",
              "  </style>\n",
              "\n",
              "    <script>\n",
              "      const buttonEl =\n",
              "        document.querySelector('#df-be44ecf5-e769-4e96-9033-b799f54d03f3 button.colab-df-convert');\n",
              "      buttonEl.style.display =\n",
              "        google.colab.kernel.accessAllowed ? 'block' : 'none';\n",
              "\n",
              "      async function convertToInteractive(key) {\n",
              "        const element = document.querySelector('#df-be44ecf5-e769-4e96-9033-b799f54d03f3');\n",
              "        const dataTable =\n",
              "          await google.colab.kernel.invokeFunction('convertToInteractive',\n",
              "                                                    [key], {});\n",
              "        if (!dataTable) return;\n",
              "\n",
              "        const docLinkHtml = 'Like what you see? Visit the ' +\n",
              "          '<a target=\"_blank\" href=https://colab.research.google.com/notebooks/data_table.ipynb>data table notebook</a>'\n",
              "          + ' to learn more about interactive tables.';\n",
              "        element.innerHTML = '';\n",
              "        dataTable['output_type'] = 'display_data';\n",
              "        await google.colab.output.renderOutput(dataTable, element);\n",
              "        const docLink = document.createElement('div');\n",
              "        docLink.innerHTML = docLinkHtml;\n",
              "        element.appendChild(docLink);\n",
              "      }\n",
              "    </script>\n",
              "  </div>\n",
              "\n",
              "\n",
              "<div id=\"df-1a234d08-041b-444c-a200-df1662ad5a12\">\n",
              "  <button class=\"colab-df-quickchart\" onclick=\"quickchart('df-1a234d08-041b-444c-a200-df1662ad5a12')\"\n",
              "            title=\"Suggest charts\"\n",
              "            style=\"display:none;\">\n",
              "\n",
              "<svg xmlns=\"http://www.w3.org/2000/svg\" height=\"24px\"viewBox=\"0 0 24 24\"\n",
              "     width=\"24px\">\n",
              "    <g>\n",
              "        <path d=\"M19 3H5c-1.1 0-2 .9-2 2v14c0 1.1.9 2 2 2h14c1.1 0 2-.9 2-2V5c0-1.1-.9-2-2-2zM9 17H7v-7h2v7zm4 0h-2V7h2v10zm4 0h-2v-4h2v4z\"/>\n",
              "    </g>\n",
              "</svg>\n",
              "  </button>\n",
              "\n",
              "<style>\n",
              "  .colab-df-quickchart {\n",
              "      --bg-color: #E8F0FE;\n",
              "      --fill-color: #1967D2;\n",
              "      --hover-bg-color: #E2EBFA;\n",
              "      --hover-fill-color: #174EA6;\n",
              "      --disabled-fill-color: #AAA;\n",
              "      --disabled-bg-color: #DDD;\n",
              "  }\n",
              "\n",
              "  [theme=dark] .colab-df-quickchart {\n",
              "      --bg-color: #3B4455;\n",
              "      --fill-color: #D2E3FC;\n",
              "      --hover-bg-color: #434B5C;\n",
              "      --hover-fill-color: #FFFFFF;\n",
              "      --disabled-bg-color: #3B4455;\n",
              "      --disabled-fill-color: #666;\n",
              "  }\n",
              "\n",
              "  .colab-df-quickchart {\n",
              "    background-color: var(--bg-color);\n",
              "    border: none;\n",
              "    border-radius: 50%;\n",
              "    cursor: pointer;\n",
              "    display: none;\n",
              "    fill: var(--fill-color);\n",
              "    height: 32px;\n",
              "    padding: 0;\n",
              "    width: 32px;\n",
              "  }\n",
              "\n",
              "  .colab-df-quickchart:hover {\n",
              "    background-color: var(--hover-bg-color);\n",
              "    box-shadow: 0 1px 2px rgba(60, 64, 67, 0.3), 0 1px 3px 1px rgba(60, 64, 67, 0.15);\n",
              "    fill: var(--button-hover-fill-color);\n",
              "  }\n",
              "\n",
              "  .colab-df-quickchart-complete:disabled,\n",
              "  .colab-df-quickchart-complete:disabled:hover {\n",
              "    background-color: var(--disabled-bg-color);\n",
              "    fill: var(--disabled-fill-color);\n",
              "    box-shadow: none;\n",
              "  }\n",
              "\n",
              "  .colab-df-spinner {\n",
              "    border: 2px solid var(--fill-color);\n",
              "    border-color: transparent;\n",
              "    border-bottom-color: var(--fill-color);\n",
              "    animation:\n",
              "      spin 1s steps(1) infinite;\n",
              "  }\n",
              "\n",
              "  @keyframes spin {\n",
              "    0% {\n",
              "      border-color: transparent;\n",
              "      border-bottom-color: var(--fill-color);\n",
              "      border-left-color: var(--fill-color);\n",
              "    }\n",
              "    20% {\n",
              "      border-color: transparent;\n",
              "      border-left-color: var(--fill-color);\n",
              "      border-top-color: var(--fill-color);\n",
              "    }\n",
              "    30% {\n",
              "      border-color: transparent;\n",
              "      border-left-color: var(--fill-color);\n",
              "      border-top-color: var(--fill-color);\n",
              "      border-right-color: var(--fill-color);\n",
              "    }\n",
              "    40% {\n",
              "      border-color: transparent;\n",
              "      border-right-color: var(--fill-color);\n",
              "      border-top-color: var(--fill-color);\n",
              "    }\n",
              "    60% {\n",
              "      border-color: transparent;\n",
              "      border-right-color: var(--fill-color);\n",
              "    }\n",
              "    80% {\n",
              "      border-color: transparent;\n",
              "      border-right-color: var(--fill-color);\n",
              "      border-bottom-color: var(--fill-color);\n",
              "    }\n",
              "    90% {\n",
              "      border-color: transparent;\n",
              "      border-bottom-color: var(--fill-color);\n",
              "    }\n",
              "  }\n",
              "</style>\n",
              "\n",
              "  <script>\n",
              "    async function quickchart(key) {\n",
              "      const quickchartButtonEl =\n",
              "        document.querySelector('#' + key + ' button');\n",
              "      quickchartButtonEl.disabled = true;  // To prevent multiple clicks.\n",
              "      quickchartButtonEl.classList.add('colab-df-spinner');\n",
              "      try {\n",
              "        const charts = await google.colab.kernel.invokeFunction(\n",
              "            'suggestCharts', [key], {});\n",
              "      } catch (error) {\n",
              "        console.error('Error during call to suggestCharts:', error);\n",
              "      }\n",
              "      quickchartButtonEl.classList.remove('colab-df-spinner');\n",
              "      quickchartButtonEl.classList.add('colab-df-quickchart-complete');\n",
              "    }\n",
              "    (() => {\n",
              "      let quickchartButtonEl =\n",
              "        document.querySelector('#df-1a234d08-041b-444c-a200-df1662ad5a12 button');\n",
              "      quickchartButtonEl.style.display =\n",
              "        google.colab.kernel.accessAllowed ? 'block' : 'none';\n",
              "    })();\n",
              "  </script>\n",
              "</div>\n",
              "\n",
              "    </div>\n",
              "  </div>\n"
            ]
          },
          "metadata": {},
          "execution_count": 5
        }
      ]
    },
    {
      "cell_type": "code",
      "source": [
        "category_counts = df['category'].value_counts()\n",
        "\n",
        "category_counts"
      ],
      "metadata": {
        "colab": {
          "base_uri": "https://localhost:8080/"
        },
        "id": "eB0S0Jk4hq5a",
        "outputId": "17fabe43-77e4-48b6-f4df-70996c5594cb"
      },
      "execution_count": null,
      "outputs": [
        {
          "output_type": "execute_result",
          "data": {
            "text/plain": [
              "1    12500\n",
              "0    12500\n",
              "Name: category, dtype: int64"
            ]
          },
          "metadata": {},
          "execution_count": 6
        }
      ]
    },
    {
      "cell_type": "markdown",
      "source": [
        "##**Step 3 - Preparing Dataset**"
      ],
      "metadata": {
        "id": "wAz1ban7qXJz"
      }
    },
    {
      "cell_type": "code",
      "source": [
        "train_data, valid_data = train_test_split(df, test_size=0.2, random_state=42)\n",
        "\n",
        "train_data = train_data.reset_index(drop=True)\n",
        "valid_data = valid_data.reset_index(drop=True)"
      ],
      "metadata": {
        "id": "2M9xjsCjhq8e"
      },
      "execution_count": null,
      "outputs": []
    },
    {
      "cell_type": "markdown",
      "source": [
        "### Image Data Generator\n",
        "\n",
        "We create something called an \"Image Data Generator\" that helps us use images in our model. To get it ready to work, we do two main things. First, we decide how we want to change the images before using them. This could be things like resizing them or adjusting their colors. Second, we tell the computer where to find our images and how many of them we want to use at once. It's like preparing ingredients for cooking - first deciding how to chop them, and then saying where we keep them and how many we need.\n",
        "\n",
        "The ImageDataGenerator class generates batches of tensor image data with real-time data augmentation.\n",
        "\n",
        "* rescale: A factor to be multiplied with each pixel value.\n",
        "* rotation_range: Images are sampled after rotating by a maximum of + and - rotation_range degrees.\n",
        "* width_shift_range: Images are sampled after randomly shifting to the left or right at a given percentage.\n",
        "* height_shift_range: Images are sampled after randomly shifting above or below at a given percentage.\n",
        "* shear_range: Images are sampled after rotation on the X, Y, and Z axes.\n",
        "* zoom_range: Zooms the image IN and OUT at a given percentage.\n",
        "* horizontal_flip: Flips images horizontally and samples them.\n",
        "* fill_mode: The fill mode of blank space after transformation.\n",
        "\n",
        "This data generator aids in preparing the training and validation data for feeding into the model. It applies various transformations and augmentations to the images in real-time, enhancing the model's ability to learn from a diverse set of variations in the training data."
      ],
      "metadata": {
        "id": "Q3pMOUMwqc-p"
      }
    },
    {
      "cell_type": "code",
      "source": [
        "train_data_gen = ImageDataGenerator(\n",
        "    rotation_range=15,\n",
        "    rescale=1./255,\n",
        "    shear_range=0.1,\n",
        "    zoom_range=0.2,\n",
        "    horizontal_flip=True,\n",
        "    width_shift_range=0.1,\n",
        "    height_shift_range=0.1\n",
        ")"
      ],
      "metadata": {
        "id": "BMJO5tnwhq_n"
      },
      "execution_count": null,
      "outputs": []
    },
    {
      "cell_type": "code",
      "source": [
        "train_generator = train_data_gen.flow_from_dataframe(\n",
        "    train_data,\n",
        "    \"/content/Dogs and Cats - Train\",\n",
        "    x_col = 'filename',\n",
        "    y_col = 'category',\n",
        "    target_size=(128,128),\n",
        "    class_mode='categorical',\n",
        "    batch_size=15\n",
        ")"
      ],
      "metadata": {
        "colab": {
          "base_uri": "https://localhost:8080/"
        },
        "id": "1wFTjBI7hrDP",
        "outputId": "6a7f7bc2-5735-4370-c915-957e0dcfad31"
      },
      "execution_count": null,
      "outputs": [
        {
          "output_type": "stream",
          "name": "stdout",
          "text": [
            "Found 20000 validated image filenames belonging to 2 classes.\n"
          ]
        }
      ]
    },
    {
      "cell_type": "code",
      "source": [
        "valid_data_gen = ImageDataGenerator(rescale=1./255)\n",
        "\n",
        "valid_generator = valid_data_gen.flow_from_dataframe(\n",
        "    valid_data,\n",
        "    \"/content/Dogs and Cats - Train\",\n",
        "    x_col = 'filename',\n",
        "    y_col = 'category',\n",
        "    target_size=(128,128),\n",
        "    class_mode='categorical',\n",
        "    batch_size=15\n",
        ")"
      ],
      "metadata": {
        "colab": {
          "base_uri": "https://localhost:8080/"
        },
        "id": "6n3-rX7XhrGP",
        "outputId": "1e619d71-059a-40d6-e25f-10c5076961d8"
      },
      "execution_count": null,
      "outputs": [
        {
          "output_type": "stream",
          "name": "stdout",
          "text": [
            "Found 5000 validated image filenames belonging to 2 classes.\n"
          ]
        }
      ]
    },
    {
      "cell_type": "markdown",
      "source": [
        "##**Step 4 - Defining Model**"
      ],
      "metadata": {
        "id": "MH6cMMdVraHf"
      }
    },
    {
      "cell_type": "code",
      "source": [
        "model = keras.models.Sequential([\n",
        "    keras.layers.Conv2D(filters=64, kernel_size=3, strides=(1,1), padding='valid', activation='relu',input_shape=(128,128,3) ),\n",
        "    keras.layers.MaxPooling2D(pool_size=(2,2)),\n",
        "\n",
        "\n",
        "    keras.layers.Conv2D(filters=128, kernel_size=3, strides=(2,2), padding='same', activation='relu'),\n",
        "    keras.layers.MaxPooling2D(pool_size=(2,2)),\n",
        "\n",
        "    keras.layers.Conv2D(filters=64, kernel_size=3, strides=(2, 2), padding='same', activation='relu'),\n",
        "    keras.layers.MaxPooling2D(pool_size=(2,2)),\n",
        "\n",
        "    keras.layers.Flatten(),\n",
        "    keras.layers.Dense(units=128, activation='relu'),\n",
        "    keras.layers.Dropout(0.25),\n",
        "\n",
        "    keras.layers.Dense(units=256, activation='relu'),\n",
        "    keras.layers.Dropout(0.5),\n",
        "\n",
        "    keras.layers.Dense(units=256, activation='relu'),\n",
        "    keras.layers.Dropout(0.25),\n",
        "\n",
        "    keras.layers.Dense(units=128, activation='relu'),\n",
        "    keras.layers.Dropout(0.10),\n",
        "\n",
        "    keras.layers.Dense(units=2, activation='softmax')\n",
        "\n",
        "])"
      ],
      "metadata": {
        "id": "QyJ5sWpRhrJG"
      },
      "execution_count": null,
      "outputs": []
    },
    {
      "cell_type": "code",
      "source": [
        "from keras.utils import plot_model\n",
        "\n",
        "plot_model(model, to_file='model.png')"
      ],
      "metadata": {
        "colab": {
          "base_uri": "https://localhost:8080/",
          "height": 1000
        },
        "id": "o3ZBVtfctNLJ",
        "outputId": "9bf99613-d999-4633-e691-ee141914f8ad"
      },
      "execution_count": null,
      "outputs": [
        {
          "output_type": "execute_result",
          "data": {
            "image/png": "[encoded data removed]",
            "text/plain": [
              "<IPython.core.display.Image object>"
            ]
          },
          "metadata": {},
          "execution_count": 12
        }
      ]
    },
    {
      "cell_type": "code",
      "source": [
        "model.summary()"
      ],
      "metadata": {
        "colab": {
          "base_uri": "https://localhost:8080/"
        },
        "id": "022U-6kUti_n",
        "outputId": "cd850ad6-b073-45e6-c50a-4bca7b82ac49"
      },
      "execution_count": null,
      "outputs": [
        {
          "output_type": "stream",
          "name": "stdout",
          "text": [
            "Model: \"sequential\"\n",
            "_________________________________________________________________\n",
            " Layer (type)                Output Shape              Param #   \n",
            "=================================================================\n",
            " conv2d (Conv2D)             (None, 126, 126, 64)      1792      \n",
            "                                                                 \n",
            " max_pooling2d (MaxPooling2  (None, 63, 63, 64)        0         \n",
            " D)                                                              \n",
            "                                                                 \n",
            " conv2d_1 (Conv2D)           (None, 32, 32, 128)       73856     \n",
            "                                                                 \n",
            " max_pooling2d_1 (MaxPoolin  (None, 16, 16, 128)       0         \n",
            " g2D)                                                            \n",
            "                                                                 \n",
            " conv2d_2 (Conv2D)           (None, 8, 8, 64)          73792     \n",
            "                                                                 \n",
            " max_pooling2d_2 (MaxPoolin  (None, 4, 4, 64)          0         \n",
            " g2D)                                                            \n",
            "                                                                 \n",
            " flatten (Flatten)           (None, 1024)              0         \n",
            "                                                                 \n",
            " dense (Dense)               (None, 128)               131200    \n",
            "                                                                 \n",
            " dropout (Dropout)           (None, 128)               0         \n",
            "                                                                 \n",
            " dense_1 (Dense)             (None, 256)               33024     \n",
            "                                                                 \n",
            " dropout_1 (Dropout)         (None, 256)               0         \n",
            "                                                                 \n",
            " dense_2 (Dense)             (None, 256)               65792     \n",
            "                                                                 \n",
            " dropout_2 (Dropout)         (None, 256)               0         \n",
            "                                                                 \n",
            " dense_3 (Dense)             (None, 128)               32896     \n",
            "                                                                 \n",
            " dropout_3 (Dropout)         (None, 128)               0         \n",
            "                                                                 \n",
            " dense_4 (Dense)             (None, 2)                 258       \n",
            "                                                                 \n",
            "=================================================================\n",
            "Total params: 412610 (1.57 MB)\n",
            "Trainable params: 412610 (1.57 MB)\n",
            "Non-trainable params: 0 (0.00 Byte)\n",
            "_________________________________________________________________\n"
          ]
        }
      ]
    },
    {
      "cell_type": "code",
      "source": [
        "model.compile(\n",
        "    optimizer='adam',\n",
        "    loss='categorical_crossentropy',\n",
        "    metrics=['accuracy']\n",
        ")"
      ],
      "metadata": {
        "id": "IyFNiscdtjCo"
      },
      "execution_count": null,
      "outputs": []
    },
    {
      "cell_type": "markdown",
      "source": [
        "##**Step 5 - Training Model**"
      ],
      "metadata": {
        "id": "K74TdwtTrlbE"
      }
    },
    {
      "cell_type": "code",
      "source": [
        "history = model.fit(\n",
        "    train_generator,\n",
        "    epochs=10,\n",
        "    verbose=1,\n",
        "    validation_data = valid_generator\n",
        ")"
      ],
      "metadata": {
        "colab": {
          "base_uri": "https://localhost:8080/"
        },
        "id": "ctMMHGvFtjFp",
        "outputId": "9aa9125b-26c1-42af-e64b-53b6ab83c35b"
      },
      "execution_count": null,
      "outputs": [
        {
          "output_type": "stream",
          "name": "stdout",
          "text": [
            "Epoch 1/10\n",
            "1334/1334 [==============================] - 243s 174ms/step - loss: 0.6924 - accuracy: 0.5220 - val_loss: 0.6759 - val_accuracy: 0.5788\n",
            "Epoch 2/10\n",
            "1334/1334 [==============================] - 238s 178ms/step - loss: 0.6867 - accuracy: 0.5512 - val_loss: 0.6782 - val_accuracy: 0.5750\n",
            "Epoch 3/10\n",
            "1334/1334 [==============================] - 247s 185ms/step - loss: 0.6754 - accuracy: 0.5818 - val_loss: 0.6538 - val_accuracy: 0.6334\n",
            "Epoch 4/10\n",
            "1334/1334 [==============================] - 177s 132ms/step - loss: 0.6288 - accuracy: 0.6550 - val_loss: 0.5744 - val_accuracy: 0.7020\n",
            "Epoch 5/10\n",
            "1334/1334 [==============================] - 170s 127ms/step - loss: 0.5733 - accuracy: 0.7038 - val_loss: 0.5037 - val_accuracy: 0.7486\n",
            "Epoch 6/10\n",
            "1334/1334 [==============================] - 166s 125ms/step - loss: 0.5447 - accuracy: 0.7260 - val_loss: 0.5032 - val_accuracy: 0.7618\n",
            "Epoch 7/10\n",
            "1334/1334 [==============================] - 176s 132ms/step - loss: 0.5258 - accuracy: 0.7402 - val_loss: 0.4947 - val_accuracy: 0.7578\n",
            "Epoch 8/10\n",
            "1334/1334 [==============================] - 167s 126ms/step - loss: 0.5051 - accuracy: 0.7584 - val_loss: 0.4795 - val_accuracy: 0.7734\n",
            "Epoch 9/10\n",
            "1334/1334 [==============================] - 164s 123ms/step - loss: 0.4950 - accuracy: 0.7625 - val_loss: 0.4418 - val_accuracy: 0.7970\n",
            "Epoch 10/10\n",
            "1334/1334 [==============================] - 162s 122ms/step - loss: 0.4779 - accuracy: 0.7770 - val_loss: 0.4238 - val_accuracy: 0.8034\n"
          ]
        }
      ]
    },
    {
      "cell_type": "code",
      "source": [
        "model.save('cat_vs_dog_model.h5')"
      ],
      "metadata": {
        "id": "ogGJHuMNvHaO"
      },
      "execution_count": null,
      "outputs": []
    },
    {
      "cell_type": "markdown",
      "source": [
        "##**Step 6 - Testing Model**"
      ],
      "metadata": {
        "id": "e5n_GrC2rtoa"
      }
    },
    {
      "cell_type": "code",
      "source": [
        "test_filenames = os.listdr(\"/content/Dogs and Cats - Test\")\n",
        "\n",
        "test_df = pd.DatFrame({\n",
        "    'filename': test_filenames\n",
        "})\n",
        "\n",
        "\n",
        "idlist = []\n",
        "for file in test_df[\"filename\"]:\n",
        "  idlist.append(file.split(\".\")[0])\n",
        "\n",
        "\n",
        "nb_samples = test_df.shape[0]"
      ],
      "metadata": {
        "id": "hxMn-yeAvHdJ"
      },
      "execution_count": null,
      "outputs": []
    },
    {
      "cell_type": "code",
      "source": [
        "test_gen = ImageDataGenerator(rescale=1./255)\n",
        "\n",
        "test_generator = test_gen.flow_from_dataframe(\n",
        "    test_df,\n",
        "    \"/content/Dogs and Cats - Test\",\n",
        "    x_col = 'filename',\n",
        "    y_col=None,\n",
        "    class_mode= None,\n",
        "    target_size=(128,128),\n",
        "    batch_size=15,\n",
        "    shuffle= False\n",
        ")"
      ],
      "metadata": {
        "id": "6pM9ex1EvHgf"
      },
      "execution_count": null,
      "outputs": []
    },
    {
      "cell_type": "code",
      "source": [
        "predict = model.predict(\n",
        "    test_generator,\n",
        "    steps=np.ceil(nb_samples/15)    #ceil=upper value\n",
        ")"
      ],
      "metadata": {
        "id": "LmMBHvxAvHjI"
      },
      "execution_count": null,
      "outputs": []
    },
    {
      "cell_type": "code",
      "source": [
        "test_df['category']=np.argmax(predict, axis=-1)"
      ],
      "metadata": {
        "id": "TmHV0SIWwekD"
      },
      "execution_count": null,
      "outputs": []
    },
    {
      "cell_type": "code",
      "source": [
        "label_map = dict((v , k) for k, v in train_generator.class_indices.items())\n",
        "\n",
        "test_df['category'] = test_df['category'].replace(label_map)"
      ],
      "metadata": {
        "id": "VmvU5z-0xD0v"
      },
      "execution_count": null,
      "outputs": []
    },
    {
      "cell_type": "code",
      "source": [
        "test_df['category'] = test_df['category'].replace({'dog' : 1, 'cat' : 0})\n",
        "\n",
        "test_df.head()"
      ],
      "metadata": {
        "id": "Z7cIrkInxD9U"
      },
      "execution_count": null,
      "outputs": []
    },
    {
      "cell_type": "markdown",
      "source": [
        "\n",
        "\n",
        "---\n",
        "\n"
      ],
      "metadata": {
        "id": "FNh15CZNr691"
      }
    }
  ]
}